{
 "cells": [
  {
   "cell_type": "markdown",
   "metadata": {},
   "source": [
    "1. Write a program that takes a string as input and counts the number of vowels and\n",
    "consonants in the string. (5 marks)\n",
    "Input: Hello, World!\n",
    "Output:\n",
    "Number of vowels: 3\n",
    "Number of consonants: 7"
   ]
  },
  {
   "cell_type": "code",
   "execution_count": 11,
   "metadata": {},
   "outputs": [
    {
     "name": "stdout",
     "output_type": "stream",
     "text": [
      "Number of vowels: 2\n",
      "Number of consonants: 3\n"
     ]
    }
   ],
   "source": [
    "def count_char(input_str):\n",
    "    vowel = \"aeiouAEIOU\"\n",
    "    no_of_vowel = 0\n",
    "    no_of_consonant = 0\n",
    "    for char in input_str:\n",
    "        if char.isalpha(): # This line is for to check the input values is caracter or not if it intiger then this block of code are not run\n",
    "            if char in vowel:\n",
    "                no_of_vowel += 1\n",
    "            else:\n",
    "                no_of_consonant += 1\n",
    "    print(\"Number of vowels:\", no_of_vowel)\n",
    "    print(\"Number of consonants:\", no_of_consonant)\n",
    "\n",
    "count_char(input(\"Enter String: \"))\n"
   ]
  },
  {
   "cell_type": "markdown",
   "metadata": {},
   "source": [
    "Write a Python program that accepts a filename from the user and prints the extension\n",
    "of the file. (5 marks)\n",
    "Sample filename: document.docx\n",
    "\n",
    "Output: docx"
   ]
  },
  {
   "cell_type": "code",
   "execution_count": 23,
   "metadata": {},
   "outputs": [
    {
     "name": "stdout",
     "output_type": "stream",
     "text": [
      "The Extention of your file is : ipynb\n"
     ]
    }
   ],
   "source": [
    "def get_extension(input):\n",
    "    extention = input.split('.')[-1]\n",
    "    return extention\n",
    "user_value = input(\"enter your file name with extention: \")\n",
    "out_put = get_extension(user_value)\n",
    "print(\"The Extention of your file is :\", out_put)"
   ]
  },
  {
   "cell_type": "markdown",
   "metadata": {},
   "source": [
    "Q3. Write a Python program to check if value 200 exists in the following dictionary.\n",
    "(5 marks)\n",
    "Sample_dict = {'a': 100, 'b': 200, 'c': 300, 'd': 400, 'e': 500}"
   ]
  },
  {
   "cell_type": "code",
   "execution_count": 28,
   "metadata": {},
   "outputs": [
    {
     "name": "stdout",
     "output_type": "stream",
     "text": [
      "The value 5 does not exist in the dictionary.\n"
     ]
    }
   ],
   "source": [
    "def check_value_exist(dictionary, value):\n",
    "    # Check if the value exists in the dictionary values\n",
    "    if value in dictionary.values():\n",
    "        return True\n",
    "    else:\n",
    "        return False\n",
    "\n",
    "# Sample dictionary\n",
    "sample_dict = {'a': 100, 'b': 200, 'c': 300, 'd': 400, 'e': 500}\n",
    "\n",
    "# Value to check\n",
    "value_to_check =int(input(\"Enter the value that you want to check: \"))\n",
    "\n",
    "# Check if the value exists\n",
    "if check_value_exist(sample_dict, value_to_check):\n",
    "    print(f\"The value {value_to_check} exists in the dictionary.\")\n",
    "else:\n",
    "    print(f\"The value {value_to_check} does not exist in the dictionary.\")\n"
   ]
  },
  {
   "cell_type": "markdown",
   "metadata": {},
   "source": [
    "Q4. The given tuple is a nested tuple. Write a Python program to print the value 20.\n",
    "(5 marks)\n",
    "tuple1 = (\"Orange\", [10, 20, 30], (5, 15, 25))"
   ]
  },
  {
   "cell_type": "code",
   "execution_count": 29,
   "metadata": {},
   "outputs": [
    {
     "name": "stdout",
     "output_type": "stream",
     "text": [
      "The value 20 is: 20\n"
     ]
    }
   ],
   "source": [
    "# Given tuple\n",
    "tuple1 = (\"Orange\", [10, 20, 30], (5, 15, 25))\n",
    "\n",
    "# Accessing the value 20 from the nested tuple\n",
    "value_20 = tuple1[1][1]\n",
    "\n",
    "# Printing the value 20\n",
    "print(\"The value 20 is:\", value_20)\n"
   ]
  },
  {
   "cell_type": "markdown",
   "metadata": {},
   "source": [
    "Q5. Write a Python program that calculates the Body Mass Index (BMI) for a person\n",
    "based on their weight (in kilograms) and height (in meters). The BMI is calculated\n",
    "using the following formula: (5 marks)\n",
    "BMI = (weight) / (height^2)\n",
    "\n",
    "Instructions:\n",
    "\n",
    "● Prompt the user to enter their weight in kilograms.\n",
    "● Prompt the user to enter their height in meters.\n",
    "● Calculate the BMI using the provided formula.\n",
    "● Display the calculated BMI to the user.\n",
    "\n",
    "Additionally, provide an interpretation of the BMI according to the\n",
    "following categories:\n",
    "\n",
    "● BMI < 18.5: Underweight\n",
    "● 18.5 <= BMI < 25: Normal weight\n",
    "● 25 <= BMI < 30: Overweight\n",
    "● BMI >= 30: Obese"
   ]
  },
  {
   "cell_type": "code",
   "execution_count": 31,
   "metadata": {},
   "outputs": [
    {
     "name": "stdout",
     "output_type": "stream",
     "text": [
      "Your BMI is: 1.851192595229619\n",
      "You are Underweight\n"
     ]
    }
   ],
   "source": [
    "# Prompt the user to enter their weight in kilograms\n",
    "weight = float(input(\"Enter your weight in kilograms: \"))\n",
    "\n",
    "# Prompt the user to enter their height in meters\n",
    "height = float(input(\"Enter your height in meters: \"))\n",
    "\n",
    "# Calculate the BMI\n",
    "bmi = weight / (height ** 2)\n",
    "\n",
    "# Display the calculated BMI to the user\n",
    "print(\"Your BMI is:\", bmi)\n",
    "\n",
    "# Interpret the BMI\n",
    "if bmi < 18.5:\n",
    "    print(\"You are Underweight\")\n",
    "elif 18.5 <= bmi < 25:\n",
    "    print(\"You have Normal weight\")\n",
    "elif 25 <= bmi < 30:\n",
    "    print(\"You are Overweight\")\n",
    "else:\n",
    "    print(\"You are Obese\")\n"
   ]
  },
  {
   "cell_type": "markdown",
   "metadata": {},
   "source": [
    "Q6: Write a Python program that prompts the user to input a string. The program\n",
    "should count the frequency of each character in the string and then print the result\n",
    "as a dictionary.(5 marks)\n",
    "\n",
    "EXAMPLE: If the user enters \"hello\" , the program should output {'h': 1, 'e': 1, 'l': 2, 'o': 1}\n",
    "indicating that 'h' appears once, 'e' appears once, 'l' appears twice, and 'o' appears\n",
    "once in the input string."
   ]
  },
  {
   "cell_type": "code",
   "execution_count": 34,
   "metadata": {},
   "outputs": [
    {
     "name": "stdout",
     "output_type": "stream",
     "text": [
      "Character frequencies: {'u': 38, 'j': 1, 'n': 1}\n"
     ]
    }
   ],
   "source": [
    "# Prompt the user to input a string\n",
    "input_string = input(\"Enter your string to calculate Frequency: \")\n",
    "\n",
    "# Initialize an empty dictionary to store the frequency of characters\n",
    "char_freq = {}\n",
    "\n",
    "# Count the frequency of each character in the input string\n",
    "for char in input_string:\n",
    "    if char in char_freq:\n",
    "        char_freq[char] += 1\n",
    "    else:\n",
    "        char_freq[char] = 1\n",
    "# first of all the else code will run because first there is no any character in the dictionary\n",
    "# then secound character same the first then if block will run and add 1 in this character \n",
    "# Print the result as a dictionary\n",
    "print(\"Character frequencies:\", char_freq)\n"
   ]
  },
  {
   "cell_type": "markdown",
   "metadata": {},
   "source": [
    "Q7. Write a Python program that takes a string input from the user and checks if it is a valid\n",
    "email address. If it is valid, print \"Valid email address\", otherwise print \"Invalid email\n",
    "address\".(5 marks)\n",
    "\n",
    "Hint: Check if the string contains “@” and ends with “.net”, or “.com” to check\n",
    "validity. Example: If the email is “abc@example.com”, then it is a valid email,\n",
    "otherwise an Invalid email."
   ]
  },
  {
   "cell_type": "code",
   "execution_count": 37,
   "metadata": {},
   "outputs": [
    {
     "name": "stdout",
     "output_type": "stream",
     "text": [
      "skdf.com  is Invalid email address\n"
     ]
    }
   ],
   "source": [
    "def is_valid_email(email):\n",
    "    # Check if the email contains \"@\" and ends with \".net\" or \".com\"\n",
    "    if \"@\" in email and (email.endswith(\".net\") or email.endswith(\".com\")):\n",
    "        return True\n",
    "    else:\n",
    "        return False\n",
    "\n",
    "# Prompt the user to enter an email address\n",
    "user_email = input(\"Enter an email address: \")\n",
    "\n",
    "# Check if the entered email is valid and print the result\n",
    "if is_valid_email(user_email):\n",
    "    print(user_email, \" is Valid email address\")\n",
    "else:\n",
    "    print(user_email,\" is Invalid email address\")\n",
    "\n"
   ]
  },
  {
   "cell_type": "markdown",
   "metadata": {},
   "source": [
    "Q8. Given a tuple of tuples, write a Python program to print the sum of the elements\n",
    "in each inner tuple. (5 marks)\n",
    "\n",
    "Input: ((1, 2, 3), (4, 5, 6), (7, 8, 9))\n",
    "Output: 6, 15, 24"
   ]
  },
  {
   "cell_type": "code",
   "execution_count": 38,
   "metadata": {},
   "outputs": [
    {
     "name": "stdout",
     "output_type": "stream",
     "text": [
      "6, 15, 24, "
     ]
    }
   ],
   "source": [
    "def sum_of_inner_tuples(tuples):\n",
    "    # Iterate over each inner tuple\n",
    "    for inner_tuple in tuples:\n",
    "        # Calculate the sum of elements in the inner tuple and print it\n",
    "        print(sum(inner_tuple), end=\", \")\n",
    "\n",
    "# Given input tuple\n",
    "input_tuple = ((1, 2, 3), (4, 5, 6), (7, 8, 9))\n",
    "\n",
    "# Call the function with the input tuple\n",
    "sum_of_inner_tuples(input_tuple)\n"
   ]
  },
  {
   "cell_type": "markdown",
   "metadata": {},
   "source": [
    "Q9. Create a list containing the 10 numbers . Print the first Three prime numbers from\n",
    "the list. (5 marks)\n",
    "Expected Output: List of the first three prime numbers: [2, 3, 5]\n"
   ]
  },
  {
   "cell_type": "code",
   "execution_count": 49,
   "metadata": {},
   "outputs": [
    {
     "name": "stdout",
     "output_type": "stream",
     "text": [
      "List of the first three prime numbers: [2, 3, 5]\n"
     ]
    }
   ],
   "source": [
    "def is_prime(num):\n",
    "    if num <= 1:\n",
    "        return False\n",
    "    for i in range(2, int(num**0.5) + 1):\n",
    "        if num % i == 0:\n",
    "            return False\n",
    "    return True\n",
    "\n",
    "# Create a list containing the first 10 numbers\n",
    "numbers = list(range(1, 10))\n",
    "\n",
    "# Filter prime numbers from the list\n",
    "prime_numbers = [num for num in numbers if is_prime(num)]\n",
    "\n",
    "# Print the first three prime numbers\n",
    "print(\"List of the first three prime numbers:\", prime_numbers[:3])\n"
   ]
  },
  {
   "cell_type": "markdown",
   "metadata": {},
   "source": [
    "Q10.Given a list of dictionaries representing students' information (name, age, grade),\n",
    "Write a Python program to sort the students based on their grades in descending\n",
    "order and print the sorted list. (5 marks)\n",
    "Dictionary: [\n",
    "\n",
    "{\"name\": \"John\", \"age\": 20, \"grade\": 85},\n",
    "{\"name\": \"Alice\", \"age\": 22, \"grade\": 90},\n",
    "{\"name\": \"Bob\", \"age\": 21, \"grade\": 80}"
   ]
  },
  {
   "cell_type": "code",
   "execution_count": 52,
   "metadata": {},
   "outputs": [
    {
     "name": "stdout",
     "output_type": "stream",
     "text": [
      "Sorted list of students based on grades in descending order:\n",
      "{'name': 'Alice', 'age': 22, 'grade': 90}\n",
      "{'name': 'John', 'age': 20, 'grade': 85}\n",
      "{'name': 'Bob', 'age': 21, 'grade': 80}\n"
     ]
    }
   ],
   "source": [
    "# List of dictionaries representing students' information\n",
    "students = [\n",
    "    {\"name\": \"John\", \"age\": 20, \"grade\": 85},\n",
    "    {\"name\": \"Alice\", \"age\": 22, \"grade\": 90},\n",
    "    {\"name\": \"Bob\", \"age\": 21, \"grade\": 80}\n",
    "]\n",
    "\n",
    "# Sort the students based on their grades in descending order\n",
    "sorted_students = sorted(students, key=lambda x: x['grade'], reverse=True)\n",
    "\n",
    "# Print the sorted list\n",
    "print(\"Sorted list of students based on grades in descending order:\")\n",
    "for student in sorted_students:\n",
    "    print(student)\n"
   ]
  }
 ],
 "metadata": {
  "kernelspec": {
   "display_name": "python_ml",
   "language": "python",
   "name": "python3"
  },
  "language_info": {
   "codemirror_mode": {
    "name": "ipython",
    "version": 3
   },
   "file_extension": ".py",
   "mimetype": "text/x-python",
   "name": "python",
   "nbconvert_exporter": "python",
   "pygments_lexer": "ipython3",
   "version": "3.11.7"
  }
 },
 "nbformat": 4,
 "nbformat_minor": 2
}
